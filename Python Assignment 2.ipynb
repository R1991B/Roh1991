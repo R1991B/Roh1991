{
 "cells": [
  {
   "cell_type": "code",
   "execution_count": 1,
   "id": "a7404958",
   "metadata": {},
   "outputs": [
    {
     "name": "stdout",
     "output_type": "stream",
     "text": [
      "*  \n",
      "* *  \n",
      "* * *  \n",
      "* * * *  \n",
      "* * * * *  \n",
      "* * * *  \n",
      "* * *  \n",
      "* *  \n",
      "*  \n",
      " \n"
     ]
    }
   ],
   "source": [
    "rows = 5\n",
    "for i in range(0, rows):\n",
    "    for j in range(0, i + 1):\n",
    "        print(\"*\", end=' ')\n",
    "    print(\" \")\n",
    "\n",
    "for i in range(rows, 0, -1):\n",
    "   for j in range(0, i - 1):\n",
    "      print(\"*\", end=' ')\n",
    "   print(\" \")"
   ]
  },
  {
   "cell_type": "code",
   "execution_count": 5,
   "id": "6885554b",
   "metadata": {},
   "outputs": [
    {
     "name": "stdout",
     "output_type": "stream",
     "text": [
      "Enter a word to be reversed: ineuron\n",
      "norueni\n"
     ]
    }
   ],
   "source": [
    "str = input(\"Enter a word to be reversed: \")\n",
    "s=\"\"\n",
    "for ch in str:\n",
    "    s = ch + s\n",
    "print(s)"
   ]
  },
  {
   "cell_type": "code",
   "execution_count": null,
   "id": "ef9546ad",
   "metadata": {},
   "outputs": [],
   "source": []
  }
 ],
 "metadata": {
  "kernelspec": {
   "display_name": "Python 3",
   "language": "python",
   "name": "python3"
  },
  "language_info": {
   "codemirror_mode": {
    "name": "ipython",
    "version": 3
   },
   "file_extension": ".py",
   "mimetype": "text/x-python",
   "name": "python",
   "nbconvert_exporter": "python",
   "pygments_lexer": "ipython3",
   "version": "3.8.8"
  }
 },
 "nbformat": 4,
 "nbformat_minor": 5
}
